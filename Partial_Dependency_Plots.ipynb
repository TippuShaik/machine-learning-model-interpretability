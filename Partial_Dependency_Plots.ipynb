{
  "nbformat": 4,
  "nbformat_minor": 0,
  "metadata": {
    "colab": {
      "provenance": [],
      "toc_visible": true
    },
    "kernelspec": {
      "name": "python3",
      "display_name": "Python 3"
    },
    "language_info": {
      "name": "python"
    }
  },
  "cells": [
    {
      "cell_type": "markdown",
      "source": [
        "Python Partial Dependency Plots are used to visualize the influence of certain features on model predictions for supervised machine learning algorithms, utilizing partial dependence plots.\n",
        "\n",
        "\n",
        "\n",
        "Code can be found at: https://github.com/SauceCat/PDPbox\n",
        "\n",
        "Documentation can be found at: http://pdpbox.readthedocs.io/en/latest/\n"
      ],
      "metadata": {
        "id": "XMAx3PiSZgsy"
      }
    },
    {
      "cell_type": "markdown",
      "source": [
        "There are lot of model agnostic methods are available to interpret black box models. Global interpretability techniques aim to give better results of the model as a whole (i.e., the global effect of the features on the target variable). One such global interpretable model agnostic method is partial dependency plots (PDPPlots).\n",
        "\n",
        "PDP's are used to visualize interactions between any two features to validate whether the model is able see if any dependency available between two or more features."
      ],
      "metadata": {
        "id": "X3HdxW8zaBgq"
      }
    },
    {
      "cell_type": "markdown",
      "source": [
        "The basic idea behind the PDP plots the average effect of different features on model prediction. Let **f** be a mathematical function learned by the model (f can be any model). The function is responsible to provide the probability or score for the given input features.\n",
        "\n",
        "If we want plot a Pdp plot for feature *x1*, and we marginalize on the rest of features represent by set *S*, by setting the feature *x1* is our value of interest. Then look at the average effect of our model (i.e., f) on feature x1."
      ],
      "metadata": {
        "id": "REB36utkcBai"
      }
    },
    {
      "cell_type": "markdown",
      "source": [
        "It's important to note that pdp plots cannot give best results if feature **x1** is correlated with feature set S."
      ],
      "metadata": {
        "id": "P46K8t-qelg8"
      }
    },
    {
      "cell_type": "code",
      "source": [
        "# We can use the above python library pdpbox to create PDP plots"
      ],
      "metadata": {
        "id": "dkcxhHynekGn"
      },
      "execution_count": 1,
      "outputs": []
    },
    {
      "cell_type": "code",
      "source": [
        "!pip install pdpbox"
      ],
      "metadata": {
        "colab": {
          "base_uri": "https://localhost:8080/"
        },
        "id": "k2LCPUDuaBR7",
        "outputId": "ba3ccc78-3e04-4a76-86f5-97b816797fc5"
      },
      "execution_count": 2,
      "outputs": [
        {
          "output_type": "stream",
          "name": "stdout",
          "text": [
            "Collecting pdpbox\n",
            "  Downloading PDPbox-0.3.0-py3-none-any.whl (35.8 MB)\n",
            "\u001b[2K     \u001b[90m━━━━━━━━━━━━━━━━━━━━━━━━━━━━━━━━━━━━━━━━\u001b[0m \u001b[32m35.8/35.8 MB\u001b[0m \u001b[31m16.1 MB/s\u001b[0m eta \u001b[36m0:00:00\u001b[0m\n",
            "\u001b[?25hRequirement already satisfied: joblib>=1.1.0 in /usr/local/lib/python3.10/dist-packages (from pdpbox) (1.3.2)\n",
            "Requirement already satisfied: matplotlib>=3.6.2 in /usr/local/lib/python3.10/dist-packages (from pdpbox) (3.7.1)\n",
            "Requirement already satisfied: numpy>=1.21.5 in /usr/local/lib/python3.10/dist-packages (from pdpbox) (1.23.5)\n",
            "Requirement already satisfied: pandas>=1.4.4 in /usr/local/lib/python3.10/dist-packages (from pdpbox) (1.5.3)\n",
            "Requirement already satisfied: plotly>=5.9.0 in /usr/local/lib/python3.10/dist-packages (from pdpbox) (5.15.0)\n",
            "Collecting pqdm>=0.2.0 (from pdpbox)\n",
            "  Downloading pqdm-0.2.0-py2.py3-none-any.whl (6.8 kB)\n",
            "Requirement already satisfied: psutil>=5.9.0 in /usr/local/lib/python3.10/dist-packages (from pdpbox) (5.9.5)\n",
            "Requirement already satisfied: pytest in /usr/local/lib/python3.10/dist-packages (from pdpbox) (7.4.4)\n",
            "Requirement already satisfied: scikit-learn>=1.0.2 in /usr/local/lib/python3.10/dist-packages (from pdpbox) (1.2.2)\n",
            "Requirement already satisfied: setuptools in /usr/local/lib/python3.10/dist-packages (from pdpbox) (67.7.2)\n",
            "Requirement already satisfied: sphinx>=5.0.2 in /usr/local/lib/python3.10/dist-packages (from pdpbox) (5.0.2)\n",
            "Collecting sphinx-rtd-theme>=1.1.1 (from pdpbox)\n",
            "  Downloading sphinx_rtd_theme-2.0.0-py2.py3-none-any.whl (2.8 MB)\n",
            "\u001b[2K     \u001b[90m━━━━━━━━━━━━━━━━━━━━━━━━━━━━━━━━━━━━━━━━\u001b[0m \u001b[32m2.8/2.8 MB\u001b[0m \u001b[31m70.9 MB/s\u001b[0m eta \u001b[36m0:00:00\u001b[0m\n",
            "\u001b[?25hRequirement already satisfied: tqdm>=4.64.1 in /usr/local/lib/python3.10/dist-packages (from pdpbox) (4.66.1)\n",
            "Collecting numpydoc>=1.4.0 (from pdpbox)\n",
            "  Downloading numpydoc-1.6.0-py3-none-any.whl (61 kB)\n",
            "\u001b[2K     \u001b[90m━━━━━━━━━━━━━━━━━━━━━━━━━━━━━━━━━━━━━━━━\u001b[0m \u001b[32m61.7/61.7 kB\u001b[0m \u001b[31m8.4 MB/s\u001b[0m eta \u001b[36m0:00:00\u001b[0m\n",
            "\u001b[?25hRequirement already satisfied: xgboost>=1.7.1 in /usr/local/lib/python3.10/dist-packages (from pdpbox) (2.0.3)\n",
            "Requirement already satisfied: contourpy>=1.0.1 in /usr/local/lib/python3.10/dist-packages (from matplotlib>=3.6.2->pdpbox) (1.2.0)\n",
            "Requirement already satisfied: cycler>=0.10 in /usr/local/lib/python3.10/dist-packages (from matplotlib>=3.6.2->pdpbox) (0.12.1)\n",
            "Requirement already satisfied: fonttools>=4.22.0 in /usr/local/lib/python3.10/dist-packages (from matplotlib>=3.6.2->pdpbox) (4.47.0)\n",
            "Requirement already satisfied: kiwisolver>=1.0.1 in /usr/local/lib/python3.10/dist-packages (from matplotlib>=3.6.2->pdpbox) (1.4.5)\n",
            "Requirement already satisfied: packaging>=20.0 in /usr/local/lib/python3.10/dist-packages (from matplotlib>=3.6.2->pdpbox) (23.2)\n",
            "Requirement already satisfied: pillow>=6.2.0 in /usr/local/lib/python3.10/dist-packages (from matplotlib>=3.6.2->pdpbox) (9.4.0)\n",
            "Requirement already satisfied: pyparsing>=2.3.1 in /usr/local/lib/python3.10/dist-packages (from matplotlib>=3.6.2->pdpbox) (3.1.1)\n",
            "Requirement already satisfied: python-dateutil>=2.7 in /usr/local/lib/python3.10/dist-packages (from matplotlib>=3.6.2->pdpbox) (2.8.2)\n",
            "Requirement already satisfied: Jinja2>=2.10 in /usr/local/lib/python3.10/dist-packages (from numpydoc>=1.4.0->pdpbox) (3.1.2)\n",
            "Requirement already satisfied: tabulate>=0.8.10 in /usr/local/lib/python3.10/dist-packages (from numpydoc>=1.4.0->pdpbox) (0.9.0)\n",
            "Requirement already satisfied: tomli>=1.1.0 in /usr/local/lib/python3.10/dist-packages (from numpydoc>=1.4.0->pdpbox) (2.0.1)\n",
            "Requirement already satisfied: pytz>=2020.1 in /usr/local/lib/python3.10/dist-packages (from pandas>=1.4.4->pdpbox) (2023.3.post1)\n",
            "Requirement already satisfied: tenacity>=6.2.0 in /usr/local/lib/python3.10/dist-packages (from plotly>=5.9.0->pdpbox) (8.2.3)\n",
            "Collecting bounded-pool-executor (from pqdm>=0.2.0->pdpbox)\n",
            "  Downloading bounded_pool_executor-0.0.3-py3-none-any.whl (3.4 kB)\n",
            "Requirement already satisfied: typing-extensions in /usr/local/lib/python3.10/dist-packages (from pqdm>=0.2.0->pdpbox) (4.5.0)\n",
            "Requirement already satisfied: scipy>=1.3.2 in /usr/local/lib/python3.10/dist-packages (from scikit-learn>=1.0.2->pdpbox) (1.11.4)\n",
            "Requirement already satisfied: threadpoolctl>=2.0.0 in /usr/local/lib/python3.10/dist-packages (from scikit-learn>=1.0.2->pdpbox) (3.2.0)\n",
            "Requirement already satisfied: sphinxcontrib-applehelp in /usr/local/lib/python3.10/dist-packages (from sphinx>=5.0.2->pdpbox) (1.0.7)\n",
            "Requirement already satisfied: sphinxcontrib-devhelp in /usr/local/lib/python3.10/dist-packages (from sphinx>=5.0.2->pdpbox) (1.0.5)\n",
            "Requirement already satisfied: sphinxcontrib-jsmath in /usr/local/lib/python3.10/dist-packages (from sphinx>=5.0.2->pdpbox) (1.0.1)\n",
            "Requirement already satisfied: sphinxcontrib-htmlhelp>=2.0.0 in /usr/local/lib/python3.10/dist-packages (from sphinx>=5.0.2->pdpbox) (2.0.4)\n",
            "Requirement already satisfied: sphinxcontrib-serializinghtml>=1.1.5 in /usr/local/lib/python3.10/dist-packages (from sphinx>=5.0.2->pdpbox) (1.1.9)\n",
            "Requirement already satisfied: sphinxcontrib-qthelp in /usr/local/lib/python3.10/dist-packages (from sphinx>=5.0.2->pdpbox) (1.0.6)\n",
            "Requirement already satisfied: Pygments>=2.0 in /usr/local/lib/python3.10/dist-packages (from sphinx>=5.0.2->pdpbox) (2.16.1)\n",
            "Requirement already satisfied: docutils<0.19,>=0.14 in /usr/local/lib/python3.10/dist-packages (from sphinx>=5.0.2->pdpbox) (0.18.1)\n",
            "Requirement already satisfied: snowballstemmer>=1.1 in /usr/local/lib/python3.10/dist-packages (from sphinx>=5.0.2->pdpbox) (2.2.0)\n",
            "Requirement already satisfied: babel>=1.3 in /usr/local/lib/python3.10/dist-packages (from sphinx>=5.0.2->pdpbox) (2.14.0)\n",
            "Requirement already satisfied: alabaster<0.8,>=0.7 in /usr/local/lib/python3.10/dist-packages (from sphinx>=5.0.2->pdpbox) (0.7.13)\n",
            "Requirement already satisfied: imagesize in /usr/local/lib/python3.10/dist-packages (from sphinx>=5.0.2->pdpbox) (1.4.1)\n",
            "Requirement already satisfied: requests>=2.5.0 in /usr/local/lib/python3.10/dist-packages (from sphinx>=5.0.2->pdpbox) (2.31.0)\n",
            "Collecting sphinxcontrib-jquery<5,>=4 (from sphinx-rtd-theme>=1.1.1->pdpbox)\n",
            "  Downloading sphinxcontrib_jquery-4.1-py2.py3-none-any.whl (121 kB)\n",
            "\u001b[2K     \u001b[90m━━━━━━━━━━━━━━━━━━━━━━━━━━━━━━━━━━━━━━━━\u001b[0m \u001b[32m121.1/121.1 kB\u001b[0m \u001b[31m16.8 MB/s\u001b[0m eta \u001b[36m0:00:00\u001b[0m\n",
            "\u001b[?25hRequirement already satisfied: iniconfig in /usr/local/lib/python3.10/dist-packages (from pytest->pdpbox) (2.0.0)\n",
            "Requirement already satisfied: pluggy<2.0,>=0.12 in /usr/local/lib/python3.10/dist-packages (from pytest->pdpbox) (1.3.0)\n",
            "Requirement already satisfied: exceptiongroup>=1.0.0rc8 in /usr/local/lib/python3.10/dist-packages (from pytest->pdpbox) (1.2.0)\n",
            "Requirement already satisfied: MarkupSafe>=2.0 in /usr/local/lib/python3.10/dist-packages (from Jinja2>=2.10->numpydoc>=1.4.0->pdpbox) (2.1.3)\n",
            "Requirement already satisfied: six>=1.5 in /usr/local/lib/python3.10/dist-packages (from python-dateutil>=2.7->matplotlib>=3.6.2->pdpbox) (1.16.0)\n",
            "Requirement already satisfied: charset-normalizer<4,>=2 in /usr/local/lib/python3.10/dist-packages (from requests>=2.5.0->sphinx>=5.0.2->pdpbox) (3.3.2)\n",
            "Requirement already satisfied: idna<4,>=2.5 in /usr/local/lib/python3.10/dist-packages (from requests>=2.5.0->sphinx>=5.0.2->pdpbox) (3.6)\n",
            "Requirement already satisfied: urllib3<3,>=1.21.1 in /usr/local/lib/python3.10/dist-packages (from requests>=2.5.0->sphinx>=5.0.2->pdpbox) (2.0.7)\n",
            "Requirement already satisfied: certifi>=2017.4.17 in /usr/local/lib/python3.10/dist-packages (from requests>=2.5.0->sphinx>=5.0.2->pdpbox) (2023.11.17)\n",
            "Installing collected packages: bounded-pool-executor, pqdm, sphinxcontrib-jquery, sphinx-rtd-theme, numpydoc, pdpbox\n",
            "Successfully installed bounded-pool-executor-0.0.3 numpydoc-1.6.0 pdpbox-0.3.0 pqdm-0.2.0 sphinx-rtd-theme-2.0.0 sphinxcontrib-jquery-4.1\n"
          ]
        }
      ]
    },
    {
      "cell_type": "code",
      "execution_count": 3,
      "metadata": {
        "id": "eicZ0aqvZD0M"
      },
      "outputs": [],
      "source": [
        "import pdpbox"
      ]
    },
    {
      "cell_type": "code",
      "source": [
        "pdpbox.__version__"
      ],
      "metadata": {
        "colab": {
          "base_uri": "https://localhost:8080/",
          "height": 35
        },
        "id": "PMRoHTbVfvbv",
        "outputId": "db674964-98a4-4890-85de-373cdcb334b3"
      },
      "execution_count": 4,
      "outputs": [
        {
          "output_type": "execute_result",
          "data": {
            "text/plain": [
              "'0.3.0'"
            ],
            "application/vnd.google.colaboratory.intrinsic+json": {
              "type": "string"
            }
          },
          "metadata": {},
          "execution_count": 4
        }
      ]
    },
    {
      "cell_type": "code",
      "source": [],
      "metadata": {
        "id": "Wb-7COqEfxxd"
      },
      "execution_count": null,
      "outputs": []
    }
  ]
}